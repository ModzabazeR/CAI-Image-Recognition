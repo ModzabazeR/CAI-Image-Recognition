{
  "nbformat": 4,
  "nbformat_minor": 0,
  "metadata": {
    "colab": {
      "name": "pdfbox.ipynb",
      "provenance": [],
      "authorship_tag": "ABX9TyP/ftlouGLL73s28SYvAlNM",
      "include_colab_link": true
    },
    "kernelspec": {
      "name": "python3",
      "display_name": "Python 3"
    },
    "language_info": {
      "name": "python"
    }
  },
  "cells": [
    {
      "cell_type": "markdown",
      "metadata": {
        "id": "view-in-github",
        "colab_type": "text"
      },
      "source": [
        "<a href=\"https://colab.research.google.com/github/ModzabazeR/CAI-Image-Recognition/blob/main/pdfbox.ipynb\" target=\"_parent\"><img src=\"https://colab.research.google.com/assets/colab-badge.svg\" alt=\"Open In Colab\"/></a>"
      ]
    },
    {
      "cell_type": "code",
      "metadata": {
        "id": "k2eAu4j7YSqF",
        "colab": {
          "base_uri": "https://localhost:8080/"
        },
        "outputId": "1a72fb89-1d5a-4d42-f170-ed3390b62797"
      },
      "source": [
        "!apt-get install -y libpdfbox-java"
      ],
      "execution_count": null,
      "outputs": [
        {
          "output_type": "stream",
          "name": "stdout",
          "text": [
            "Reading package lists... Done\n",
            "Building dependency tree       \n",
            "Reading state information... Done\n",
            "The following additional packages will be installed:\n",
            "  libfontbox-java\n",
            "The following NEW packages will be installed:\n",
            "  libfontbox-java libpdfbox-java\n",
            "0 upgraded, 2 newly installed, 0 to remove and 37 not upgraded.\n",
            "Need to get 5,416 kB of archives.\n",
            "After this operation, 5,751 kB of additional disk space will be used.\n",
            "Get:1 http://archive.ubuntu.com/ubuntu bionic-updates/universe amd64 libfontbox-java all 1:1.8.16-2~18.04 [211 kB]\n",
            "Get:2 http://archive.ubuntu.com/ubuntu bionic-updates/universe amd64 libpdfbox-java all 1:1.8.16-2~18.04 [5,205 kB]\n",
            "Fetched 5,416 kB in 1s (4,733 kB/s)\n",
            "Selecting previously unselected package libfontbox-java.\n",
            "(Reading database ... 155219 files and directories currently installed.)\n",
            "Preparing to unpack .../libfontbox-java_1%3a1.8.16-2~18.04_all.deb ...\n",
            "Unpacking libfontbox-java (1:1.8.16-2~18.04) ...\n",
            "Selecting previously unselected package libpdfbox-java.\n",
            "Preparing to unpack .../libpdfbox-java_1%3a1.8.16-2~18.04_all.deb ...\n",
            "Unpacking libpdfbox-java (1:1.8.16-2~18.04) ...\n",
            "Setting up libfontbox-java (1:1.8.16-2~18.04) ...\n",
            "Setting up libpdfbox-java (1:1.8.16-2~18.04) ...\n"
          ]
        }
      ]
    },
    {
      "cell_type": "code",
      "metadata": {
        "colab": {
          "base_uri": "https://localhost:8080/"
        },
        "id": "eTYQGtb_lWmv",
        "outputId": "089dc032-741b-45b3-8866-15c53c7f68d1"
      },
      "source": [
        "!pip install python-pdfbox"
      ],
      "execution_count": null,
      "outputs": [
        {
          "output_type": "stream",
          "name": "stdout",
          "text": [
            "Collecting python-pdfbox\n",
            "  Downloading python-pdfbox-0.1.8.1.tar.gz (82 kB)\n",
            "\u001b[?25l\r\u001b[K     |████                            | 10 kB 20.3 MB/s eta 0:00:01\r\u001b[K     |████████                        | 20 kB 14.1 MB/s eta 0:00:01\r\u001b[K     |███████████▉                    | 30 kB 10.3 MB/s eta 0:00:01\r\u001b[K     |███████████████▉                | 40 kB 9.1 MB/s eta 0:00:01\r\u001b[K     |███████████████████▊            | 51 kB 5.4 MB/s eta 0:00:01\r\u001b[K     |███████████████████████▊        | 61 kB 5.6 MB/s eta 0:00:01\r\u001b[K     |███████████████████████████▊    | 71 kB 5.0 MB/s eta 0:00:01\r\u001b[K     |███████████████████████████████▋| 81 kB 5.6 MB/s eta 0:00:01\r\u001b[K     |████████████████████████████████| 82 kB 913 kB/s \n",
            "\u001b[?25hRequirement already satisfied: appdirs in /usr/local/lib/python3.7/dist-packages (from python-pdfbox) (1.4.4)\n",
            "Collecting jpype1\n",
            "  Downloading JPype1-1.3.0-cp37-cp37m-manylinux_2_5_x86_64.manylinux1_x86_64.whl (448 kB)\n",
            "\u001b[K     |████████████████████████████████| 448 kB 18.0 MB/s \n",
            "\u001b[?25hRequirement already satisfied: setuptools in /usr/local/lib/python3.7/dist-packages (from python-pdfbox) (57.4.0)\n",
            "Requirement already satisfied: typing-extensions in /usr/local/lib/python3.7/dist-packages (from jpype1->python-pdfbox) (3.10.0.2)\n",
            "Building wheels for collected packages: python-pdfbox\n",
            "  Building wheel for python-pdfbox (setup.py) ... \u001b[?25l\u001b[?25hdone\n",
            "  Created wheel for python-pdfbox: filename=python_pdfbox-0.1.8.1-py3-none-any.whl size=6195 sha256=711053f53ccb85d80ea65ec2e97af6977e521fcfec3447880ab22cae8de7c969\n",
            "  Stored in directory: /root/.cache/pip/wheels/20/63/14/e5bf38f80abbf6ad6ea86abaecac724383b81be75ee0134a6c\n",
            "Successfully built python-pdfbox\n",
            "Installing collected packages: jpype1, python-pdfbox\n",
            "Successfully installed jpype1-1.3.0 python-pdfbox-0.1.8.1\n"
          ]
        }
      ]
    },
    {
      "cell_type": "code",
      "metadata": {
        "colab": {
          "base_uri": "https://localhost:8080/"
        },
        "id": "d50HNBvqlXvh",
        "outputId": "6ed9f67d-6567-46cb-d0be-70d27653bc68"
      },
      "source": [
        "!wget https://github.com/PyThaiNLP/thai-covid-19-situation/raw/master/pdf/situation-no95-070463.pdf"
      ],
      "execution_count": null,
      "outputs": [
        {
          "output_type": "stream",
          "name": "stdout",
          "text": [
            "--2021-11-19 09:47:03--  https://github.com/PyThaiNLP/thai-covid-19-situation/raw/master/pdf/situation-no95-070463.pdf\n",
            "Resolving github.com (github.com)... 140.82.114.3\n",
            "Connecting to github.com (github.com)|140.82.114.3|:443... connected.\n",
            "HTTP request sent, awaiting response... 302 Found\n",
            "Location: https://raw.githubusercontent.com/PyThaiNLP/thai-covid-19-situation/master/pdf/situation-no95-070463.pdf [following]\n",
            "--2021-11-19 09:47:03--  https://raw.githubusercontent.com/PyThaiNLP/thai-covid-19-situation/master/pdf/situation-no95-070463.pdf\n",
            "Resolving raw.githubusercontent.com (raw.githubusercontent.com)... 185.199.108.133, 185.199.109.133, 185.199.110.133, ...\n",
            "Connecting to raw.githubusercontent.com (raw.githubusercontent.com)|185.199.108.133|:443... connected.\n",
            "HTTP request sent, awaiting response... 200 OK\n",
            "Length: 246626 (241K) [application/octet-stream]\n",
            "Saving to: ‘situation-no95-070463.pdf’\n",
            "\n",
            "situation-no95-0704 100%[===================>] 240.85K  --.-KB/s    in 0.03s   \n",
            "\n",
            "2021-11-19 09:47:04 (7.69 MB/s) - ‘situation-no95-070463.pdf’ saved [246626/246626]\n",
            "\n"
          ]
        }
      ]
    },
    {
      "cell_type": "code",
      "metadata": {
        "id": "9y8qYclal9Zf"
      },
      "source": [
        "import pdfbox\n",
        "p = pdfbox.PDFBox()"
      ],
      "execution_count": null,
      "outputs": []
    },
    {
      "cell_type": "code",
      "metadata": {
        "id": "zAMahGhunVY2"
      },
      "source": [
        "p.extract_text('/content/บีเอฟเอ็กซ์.pdf',output_path = \"data.txt\")"
      ],
      "execution_count": null,
      "outputs": []
    },
    {
      "cell_type": "code",
      "metadata": {
        "id": "py-rmN98nYhS"
      },
      "source": [
        "p.extract_images('/content/บีเอฟเอ็กซ์.pdf') # ดึงภาพจาก PDF"
      ],
      "execution_count": null,
      "outputs": []
    }
  ]
}