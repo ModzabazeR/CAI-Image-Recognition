{
  "nbformat": 4,
  "nbformat_minor": 0,
  "metadata": {
    "colab": {
      "name": "pdfbox.ipynb",
      "provenance": [],
      "include_colab_link": true
    },
    "kernelspec": {
      "name": "python3",
      "display_name": "Python 3"
    },
    "language_info": {
      "name": "python"
    }
  },
  "cells": [
    {
      "cell_type": "markdown",
      "metadata": {
        "id": "view-in-github",
        "colab_type": "text"
      },
      "source": [
        "<a href=\"https://colab.research.google.com/github/ModzabazeR/CAI-Image-Recognition/blob/main/pdfbox.ipynb\" target=\"_parent\"><img src=\"https://colab.research.google.com/assets/colab-badge.svg\" alt=\"Open In Colab\"/></a>"
      ]
    },
    {
      "cell_type": "code",
      "metadata": {
        "id": "k2eAu4j7YSqF",
        "colab": {
          "base_uri": "https://localhost:8080/"
        },
        "outputId": "bf9bd1c1-d2c7-4c42-f0fb-228fa8963643"
      },
      "source": [
        "!apt-get install -y libpdfbox-java"
      ],
      "execution_count": null,
      "outputs": [
        {
          "output_type": "stream",
          "name": "stdout",
          "text": [
            "Reading package lists... Done\n",
            "Building dependency tree       \n",
            "Reading state information... Done\n",
            "The following additional packages will be installed:\n",
            "  libfontbox-java\n",
            "The following NEW packages will be installed:\n",
            "  libfontbox-java libpdfbox-java\n",
            "0 upgraded, 2 newly installed, 0 to remove and 37 not upgraded.\n",
            "Need to get 5,416 kB of archives.\n",
            "After this operation, 5,751 kB of additional disk space will be used.\n",
            "Get:1 http://archive.ubuntu.com/ubuntu bionic-updates/universe amd64 libfontbox-java all 1:1.8.16-2~18.04 [211 kB]\n",
            "Get:2 http://archive.ubuntu.com/ubuntu bionic-updates/universe amd64 libpdfbox-java all 1:1.8.16-2~18.04 [5,205 kB]\n",
            "Fetched 5,416 kB in 1s (4,864 kB/s)\n",
            "Selecting previously unselected package libfontbox-java.\n",
            "(Reading database ... 155219 files and directories currently installed.)\n",
            "Preparing to unpack .../libfontbox-java_1%3a1.8.16-2~18.04_all.deb ...\n",
            "Unpacking libfontbox-java (1:1.8.16-2~18.04) ...\n",
            "Selecting previously unselected package libpdfbox-java.\n",
            "Preparing to unpack .../libpdfbox-java_1%3a1.8.16-2~18.04_all.deb ...\n",
            "Unpacking libpdfbox-java (1:1.8.16-2~18.04) ...\n",
            "Setting up libfontbox-java (1:1.8.16-2~18.04) ...\n",
            "Setting up libpdfbox-java (1:1.8.16-2~18.04) ...\n"
          ]
        }
      ]
    },
    {
      "cell_type": "code",
      "metadata": {
        "colab": {
          "base_uri": "https://localhost:8080/"
        },
        "id": "p4sHLjxYNlO4",
        "outputId": "44281b9c-7f66-460c-9491-74c43cbfb303"
      },
      "source": [
        ""
      ],
      "execution_count": null,
      "outputs": [
        {
          "output_type": "stream",
          "name": "stdout",
          "text": [
            "Cloning into 'CAI-Image-Recognition'...\n",
            "remote: Enumerating objects: 14, done.\u001b[K\n",
            "remote: Counting objects: 100% (14/14), done.\u001b[K\n",
            "remote: Compressing objects: 100% (12/12), done.\u001b[K\n",
            "remote: Total 14 (delta 2), reused 0 (delta 0), pack-reused 0\u001b[K\n",
            "Unpacking objects: 100% (14/14), done.\n"
          ]
        }
      ]
    },
    {
      "cell_type": "code",
      "metadata": {
        "id": "eTYQGtb_lWmv",
        "colab": {
          "base_uri": "https://localhost:8080/"
        },
        "outputId": "93f11b4e-ed14-43e3-cff9-f9accdf21368"
      },
      "source": [
        "!pip install python-pdfbox"
      ],
      "execution_count": null,
      "outputs": [
        {
          "output_type": "stream",
          "name": "stdout",
          "text": [
            "Collecting python-pdfbox\n",
            "  Downloading python-pdfbox-0.1.8.1.tar.gz (82 kB)\n",
            "\u001b[K     |████████████████████████████████| 82 kB 697 kB/s \n",
            "\u001b[?25hRequirement already satisfied: appdirs in /usr/local/lib/python3.7/dist-packages (from python-pdfbox) (1.4.4)\n",
            "Collecting jpype1\n",
            "  Downloading JPype1-1.3.0-cp37-cp37m-manylinux_2_5_x86_64.manylinux1_x86_64.whl (448 kB)\n",
            "\u001b[K     |████████████████████████████████| 448 kB 35.9 MB/s \n",
            "\u001b[?25hRequirement already satisfied: setuptools in /usr/local/lib/python3.7/dist-packages (from python-pdfbox) (57.4.0)\n",
            "Requirement already satisfied: typing-extensions in /usr/local/lib/python3.7/dist-packages (from jpype1->python-pdfbox) (3.10.0.2)\n",
            "Building wheels for collected packages: python-pdfbox\n",
            "  Building wheel for python-pdfbox (setup.py) ... \u001b[?25l\u001b[?25hdone\n",
            "  Created wheel for python-pdfbox: filename=python_pdfbox-0.1.8.1-py3-none-any.whl size=6195 sha256=52a8a51486560f696192128045a565983923e1f1ee8f92b62c19d246ad71351a\n",
            "  Stored in directory: /root/.cache/pip/wheels/20/63/14/e5bf38f80abbf6ad6ea86abaecac724383b81be75ee0134a6c\n",
            "Successfully built python-pdfbox\n",
            "Installing collected packages: jpype1, python-pdfbox\n",
            "Successfully installed jpype1-1.3.0 python-pdfbox-0.1.8.1\n"
          ]
        }
      ]
    },
    {
      "cell_type": "code",
      "metadata": {
        "id": "9y8qYclal9Zf"
      },
      "source": [
        "import pdfbox\n",
        "p = pdfbox.PDFBox()"
      ],
      "execution_count": null,
      "outputs": []
    },
    {
      "cell_type": "code",
      "metadata": {
        "id": "zAMahGhunVY2"
      },
      "source": [
        "p.extract_text('/content/CAI-Image-Recognition/content/ซีพี บีแอนด์เอฟ (ไทยแลนด์).pdf',output_path = \"data.txt\")"
      ],
      "execution_count": null,
      "outputs": []
    },
    {
      "cell_type": "code",
      "metadata": {
        "id": "py-rmN98nYhS"
      },
      "source": [
        "p.extract_images('/content/CAI-Image-Recognition/content/บีเอฟเอ็กซ์.pdf') # ดึงภาพจาก PDF"
      ],
      "execution_count": null,
      "outputs": []
    },
    {
      "cell_type": "code",
      "metadata": {
        "colab": {
          "base_uri": "https://localhost:8080/"
        },
        "id": "4nAiyuvXOQA1",
        "outputId": "9d75e5b7-4ea2-4922-c229-e65fdfd082c7"
      },
      "source": [
        ""
      ],
      "execution_count": null,
      "outputs": [
        {
          "output_type": "stream",
          "name": "stdout",
          "text": [
            "None\n"
          ]
        }
      ]
    }
  ]
}