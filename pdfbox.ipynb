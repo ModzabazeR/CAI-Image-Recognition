{
  "nbformat": 4,
  "nbformat_minor": 0,
  "metadata": {
    "colab": {
      "name": "pdfbox.ipynb",
      "provenance": [],
      "authorship_tag": "ABX9TyNmwSBVgjlxtB5181RdwK6O",
      "include_colab_link": true
    },
    "kernelspec": {
      "name": "python3",
      "display_name": "Python 3"
    },
    "language_info": {
      "name": "python"
    }
  },
  "cells": [
    {
      "cell_type": "markdown",
      "metadata": {
        "id": "view-in-github",
        "colab_type": "text"
      },
      "source": [
        "<a href=\"https://colab.research.google.com/github/ModzabazeR/CAI-Image-Recognition/blob/main/pdfbox.ipynb\" target=\"_parent\"><img src=\"https://colab.research.google.com/assets/colab-badge.svg\" alt=\"Open In Colab\"/></a>"
      ]
    },
    {
      "cell_type": "code",
      "metadata": {
        "id": "k2eAu4j7YSqF"
      },
      "source": [
        "!apt-get install -y libpdfbox-java"
      ],
      "execution_count": null,
      "outputs": []
    },
    {
      "cell_type": "code",
      "metadata": {
        "id": "eTYQGtb_lWmv"
      },
      "source": [
        "!pip install python-pdfbox"
      ],
      "execution_count": null,
      "outputs": []
    },
    {
      "cell_type": "code",
      "metadata": {
        "id": "9y8qYclal9Zf"
      },
      "source": [
        "import pdfbox\n",
        "p = pdfbox.PDFBox()"
      ],
      "execution_count": null,
      "outputs": []
    },
    {
      "cell_type": "code",
      "metadata": {
        "id": "zAMahGhunVY2"
      },
      "source": [
        "p.extract_text('/content/บีเอฟเอ็กซ์.pdf',output_path = \"data.txt\")"
      ],
      "execution_count": null,
      "outputs": []
    },
    {
      "cell_type": "code",
      "metadata": {
        "id": "py-rmN98nYhS"
      },
      "source": [
        "p.extract_images('/content/บีเอฟเอ็กซ์.pdf') # ดึงภาพจาก PDF"
      ],
      "execution_count": null,
      "outputs": []
    }
  ]
}